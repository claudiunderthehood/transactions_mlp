{
 "cells": [
  {
   "cell_type": "code",
   "execution_count": 3,
   "metadata": {},
   "outputs": [
    {
     "name": "stdout",
     "output_type": "stream",
     "text": [
      "Reading files...\n",
      "Transactions read from files:  726864\n",
      "Fraudulent transactions:  5106\n"
     ]
    }
   ],
   "source": [
    "%reload_ext autoreload\n",
    "%autoreload 2\n",
    "\n",
    "import pandas as pd\n",
    "import sys\n",
    "sys.path.append('../')\n",
    "\n",
    "from generator_modules.load_dataset import load_ds\n",
    "\n",
    "SEED: int = 42\n",
    "\n",
    "PATH: str = '../data/transformed/'\n",
    "\n",
    "START: str = '2024-06-11'\n",
    "END: str = '2024-09-14'\n",
    "\n",
    "print(\"Reading files...\")\n",
    "transactions_df: pd.DataFrame = load_ds(PATH, START, END)\n",
    "print(\"Transactions read from files: \", len(transactions_df))\n",
    "print(\"Fraudulent transactions: \", transactions_df.IS_FRAUD.sum())"
   ]
  },
  {
   "cell_type": "code",
   "execution_count": 4,
   "metadata": {},
   "outputs": [],
   "source": [
    "columns_to_exclude: list = ['TRX_ID', 'CLIENT_ID', 'TERMINAL_ID', 'IS_FRAUD', 'FRAUD_SCENARIO', 'TRX_DATETIME', 'TRX_SECONDS', 'TRX_DAYS']\n",
    "\n",
    "input_features: list = [col for col in transactions_df.columns if col not in columns_to_exclude]\n",
    "output_features: str = 'IS_FRAUD'"
   ]
  },
  {
   "cell_type": "code",
   "execution_count": 5,
   "metadata": {},
   "outputs": [],
   "source": [
    "import datetime\n",
    "\n",
    "start_date_training: datetime = datetime.datetime.strptime(\"2024-07-25\", \"%Y-%m-%d\")\n",
    "\n",
    "from classification_modules.classificationClass import Classification\n",
    "\n",
    "classificate: Classification = Classification()"
   ]
  },
  {
   "cell_type": "code",
   "execution_count": 6,
   "metadata": {},
   "outputs": [
    {
     "name": "stdout",
     "output_type": "stream",
     "text": [
      "Selected device is cuda\n"
     ]
    }
   ],
   "source": [
    "import torch\n",
    "\n",
    "if torch.cuda.is_available():\n",
    "    device: str = \"cuda\" \n",
    "else:\n",
    "    device = \"cpu\"\n",
    "print(\"Selected device is\",device)"
   ]
  },
  {
   "cell_type": "code",
   "execution_count": 7,
   "metadata": {},
   "outputs": [],
   "source": [
    "from deepLearning_modules.seeder import seed_everything\n",
    "\n",
    "seed_everything(SEED)"
   ]
  },
  {
   "cell_type": "code",
   "execution_count": 8,
   "metadata": {},
   "outputs": [],
   "source": [
    "from deepLearning_modules.transactionMLP import TransactionMLP\n",
    "\n",
    "criterion: torch.nn.BCELoss = torch.nn.BCELoss().to(device)"
   ]
  },
  {
   "cell_type": "code",
   "execution_count": 9,
   "metadata": {},
   "outputs": [],
   "source": [
    "from classification_modules.normaliser import normalize_data\n",
    "\n",
    "training_duration=7\n",
    "delay_duration=7\n",
    "test_duration=7\n",
    "\n",
    "delta_valid = test_duration\n",
    "\n",
    "start_date_training_with_valid = start_date_training+datetime.timedelta(days=-(delay_duration+delta_valid))\n",
    "\n",
    "(train_set, valid_set)=classificate.split_train_test(transactions_df,start_date_training_with_valid,\n",
    "                                       training_duration=training_duration,delay_duration=delay_duration,test_duration=test_duration)\n",
    "\n",
    "(train_set, valid_set)=normalize_data(train_set, valid_set, input_features)"
   ]
  },
  {
   "cell_type": "code",
   "execution_count": 10,
   "metadata": {},
   "outputs": [
    {
     "name": "stderr",
     "output_type": "stream",
     "text": [
      "c:\\Users\\gc042\\OneDrive\\Desktop\\Projects\\datamining_proj\\datamining_proj\\venv\\Lib\\site-packages\\torch\\optim\\lr_scheduler.py:60: UserWarning: The verbose parameter is deprecated. Please use get_last_lr() to access the learning rate.\n",
      "  warnings.warn(\n"
     ]
    }
   ],
   "source": [
    "import torch.optim.lr_scheduler as lr_scheduler\n",
    "\n",
    "from deepLearning_modules.training_tools import prepare_data_loaders\n",
    "\n",
    "seed_everything(SEED)\n",
    "\n",
    "model_name: str = 'best_sgd.pth'\n",
    "\n",
    "model = TransactionMLP(len(input_features)).to(device)\n",
    "\n",
    "trainer, validator = prepare_data_loaders(train_df=train_set, valid_df=valid_set, input_features=input_features, output_feature=output_features, batch_size=64, device=device)\n",
    "\n",
    "criterion = torch.nn.BCELoss().to(device)\n",
    "optimizer = torch.optim.SGD(model.parameters(), lr=0.01)\n",
    "\n",
    "scheduler = lr_scheduler.ReduceLROnPlateau(optimizer, mode='min', factor=0.1, patience=2, verbose=True)"
   ]
  },
  {
   "cell_type": "code",
   "execution_count": 11,
   "metadata": {},
   "outputs": [
    {
     "name": "stdout",
     "output_type": "stream",
     "text": [
      "Epoch 1/1000: train loss: 0.29018364672882874\n",
      "New best score: 0.12078339235981894\n",
      "Model checkpoint saved at: ./models/best/best_sgd.pth\n",
      "Epoch 2/1000: train loss: 0.08813489208160878\n",
      "New best score: 0.07142218386662454\n",
      "Model checkpoint saved at: ./models/best/best_sgd.pth\n",
      "Epoch 3/1000: train loss: 0.0599246056205466\n",
      "New best score: 0.05602651071704304\n",
      "Model checkpoint saved at: ./models/best/best_sgd.pth\n",
      "Epoch 4/1000: train loss: 0.04912274172625952\n",
      "New best score: 0.04891271053145601\n",
      "Model checkpoint saved at: ./models/best/best_sgd.pth\n",
      "Epoch 5/1000: train loss: 0.04360271708712136\n",
      "New best score: 0.04497418852297401\n",
      "Model checkpoint saved at: ./models/best/best_sgd.pth\n",
      "Epoch 6/1000: train loss: 0.04033845664122031\n",
      "New best score: 0.042536015870192026\n",
      "Model checkpoint saved at: ./models/best/best_sgd.pth\n",
      "Epoch 7/1000: train loss: 0.038226439140085215\n",
      "New best score: 0.040921606461396705\n",
      "Model checkpoint saved at: ./models/best/best_sgd.pth\n",
      "Epoch 8/1000: train loss: 0.03677408330524489\n",
      "New best score: 0.03979411389167899\n",
      "Model checkpoint saved at: ./models/best/best_sgd.pth\n",
      "Epoch 9/1000: train loss: 0.03573015439372268\n",
      "New best score: 0.03897816498136557\n",
      "Model checkpoint saved at: ./models/best/best_sgd.pth\n",
      "Epoch 10/1000: train loss: 0.034954067903131894\n",
      "New best score: 0.038367164621757516\n",
      "Model checkpoint saved at: ./models/best/best_sgd.pth\n",
      "Epoch 11/1000: train loss: 0.03438443483071628\n",
      "New best score: 0.037900035964062856\n",
      "Model checkpoint saved at: ./models/best/best_sgd.pth\n",
      "Epoch 12/1000: train loss: 0.033899681269421625\n",
      "New best score: 0.037535384804235156\n",
      "Model checkpoint saved at: ./models/best/best_sgd.pth\n",
      "Epoch 13/1000: train loss: 0.03353356283336794\n",
      "New best score: 0.03724383098811585\n",
      "Model checkpoint saved at: ./models/best/best_sgd.pth\n",
      "Epoch 14/1000: train loss: 0.0332372686295636\n",
      "New best score: 0.037005296810515134\n",
      "Model checkpoint saved at: ./models/best/best_sgd.pth\n",
      "Epoch 15/1000: train loss: 0.03299429919833522\n",
      "New best score: 0.03680730238643401\n",
      "Model checkpoint saved at: ./models/best/best_sgd.pth\n",
      "Epoch 16/1000: train loss: 0.03281854267599217\n",
      "New best score: 0.03664306181246376\n",
      "Model checkpoint saved at: ./models/best/best_sgd.pth\n",
      "Epoch 17/1000: train loss: 0.03262636233524175\n",
      "New best score: 0.03650335784173787\n",
      "Model checkpoint saved at: ./models/best/best_sgd.pth\n",
      "Epoch 18/1000: train loss: 0.03248487591396523\n",
      "New best score: 0.036383614089797074\n",
      "Model checkpoint saved at: ./models/best/best_sgd.pth\n",
      "Epoch 19/1000: train loss: 0.03236340688276941\n",
      "New best score: 0.03627885722829354\n",
      "Model checkpoint saved at: ./models/best/best_sgd.pth\n",
      "Epoch 20/1000: train loss: 0.03225772219788027\n",
      "New best score: 0.03618420119939538\n",
      "Model checkpoint saved at: ./models/best/best_sgd.pth\n",
      "Epoch 21/1000: train loss: 0.0321645347825545\n",
      "New best score: 0.036095158747887816\n",
      "Model checkpoint saved at: ./models/best/best_sgd.pth\n",
      "Epoch 22/1000: train loss: 0.03208060516920624\n",
      "New best score: 0.0360076933030651\n",
      "Model checkpoint saved at: ./models/best/best_sgd.pth\n",
      "Epoch 23/1000: train loss: 0.03200358554224991\n",
      "New best score: 0.035919701837071986\n",
      "Model checkpoint saved at: ./models/best/best_sgd.pth\n",
      "Epoch 24/1000: train loss: 0.03193136981687564\n",
      "New best score: 0.03582709780973075\n",
      "Model checkpoint saved at: ./models/best/best_sgd.pth\n",
      "Epoch 25/1000: train loss: 0.03186171389467881\n",
      "New best score: 0.03572615692594015\n",
      "Model checkpoint saved at: ./models/best/best_sgd.pth\n",
      "Epoch 26/1000: train loss: 0.03179242744908676\n",
      "New best score: 0.03561242113196681\n",
      "Model checkpoint saved at: ./models/best/best_sgd.pth\n",
      "Epoch 27/1000: train loss: 0.0317213361923384\n",
      "New best score: 0.03548111408909299\n",
      "Model checkpoint saved at: ./models/best/best_sgd.pth\n",
      "Epoch 28/1000: train loss: 0.031645764718103805\n",
      "New best score: 0.03532527881968566\n",
      "Model checkpoint saved at: ./models/best/best_sgd.pth\n",
      "Epoch 29/1000: train loss: 0.03158540227156928\n",
      "New best score: 0.0351320348458629\n",
      "Model checkpoint saved at: ./models/best/best_sgd.pth\n",
      "Epoch 30/1000: train loss: 0.03146196267745429\n",
      "New best score: 0.03488689153998378\n",
      "Model checkpoint saved at: ./models/best/best_sgd.pth\n",
      "Epoch 31/1000: train loss: 0.03136728686234114\n",
      "New best score: 0.0345643199113751\n",
      "Model checkpoint saved at: ./models/best/best_sgd.pth\n",
      "Epoch 32/1000: train loss: 0.031207085495529065\n",
      "New best score: 0.03411994060150168\n",
      "Model checkpoint saved at: ./models/best/best_sgd.pth\n",
      "Epoch 33/1000: train loss: 0.030970727454481938\n",
      "New best score: 0.03348138475852301\n",
      "Model checkpoint saved at: ./models/best/best_sgd.pth\n",
      "Epoch 34/1000: train loss: 0.0306889845556838\n",
      "New best score: 0.032507864833183686\n",
      "Model checkpoint saved at: ./models/best/best_sgd.pth\n",
      "Epoch 35/1000: train loss: 0.030181599048913394\n",
      "New best score: 0.030921084156781544\n",
      "Model checkpoint saved at: ./models/best/best_sgd.pth\n",
      "Epoch 36/1000: train loss: 0.029409834762434157\n",
      "New best score: 0.028291631041951964\n",
      "Model checkpoint saved at: ./models/best/best_sgd.pth\n",
      "Epoch 37/1000: train loss: 0.028166573603312473\n",
      "New best score: 0.025182220512781246\n",
      "Model checkpoint saved at: ./models/best/best_sgd.pth\n",
      "Epoch 38/1000: train loss: 0.027057535927970514\n",
      "New best score: 0.0237378265399189\n",
      "Model checkpoint saved at: ./models/best/best_sgd.pth\n",
      "Epoch 39/1000: train loss: 0.026413784485471523\n",
      "New best score: 0.023311613931736936\n",
      "Model checkpoint saved at: ./models/best/best_sgd.pth\n",
      "Epoch 40/1000: train loss: 0.026074868778900532\n",
      "New best score: 0.02316477097268965\n",
      "Model checkpoint saved at: ./models/best/best_sgd.pth\n",
      "Epoch 41/1000: train loss: 0.0258330545657133\n",
      "New best score: 0.02306712251429912\n",
      "Model checkpoint saved at: ./models/best/best_sgd.pth\n",
      "Epoch 42/1000: train loss: 0.025607691053563933\n",
      "New best score: 0.022973182677198094\n",
      "Model checkpoint saved at: ./models/best/best_sgd.pth\n",
      "Epoch 43/1000: train loss: 0.025388439161385834\n",
      "New best score: 0.022831733072532192\n",
      "Model checkpoint saved at: ./models/best/best_sgd.pth\n",
      "Epoch 44/1000: train loss: 0.025162698778999324\n",
      "New best score: 0.022666907876411384\n",
      "Model checkpoint saved at: ./models/best/best_sgd.pth\n",
      "Epoch 45/1000: train loss: 0.024928096597725113\n",
      "New best score: 0.022562399405116982\n",
      "Model checkpoint saved at: ./models/best/best_sgd.pth\n",
      "Epoch 46/1000: train loss: 0.024694200984516856\n",
      "New best score: 0.02231740674876987\n",
      "Model checkpoint saved at: ./models/best/best_sgd.pth\n",
      "Epoch 47/1000: train loss: 0.024452249887938194\n",
      "New best score: 0.022097839848892846\n",
      "Model checkpoint saved at: ./models/best/best_sgd.pth\n",
      "Epoch 48/1000: train loss: 0.02421549767622004\n",
      "New best score: 0.021892287021585483\n",
      "Model checkpoint saved at: ./models/best/best_sgd.pth\n",
      "Epoch 49/1000: train loss: 0.02398918652582847\n",
      "New best score: 0.02171187915121773\n",
      "Model checkpoint saved at: ./models/best/best_sgd.pth\n",
      "Epoch 50/1000: train loss: 0.023775037067923922\n",
      "New best score: 0.021482509489868934\n",
      "Model checkpoint saved at: ./models/best/best_sgd.pth\n",
      "Epoch 51/1000: train loss: 0.023576016363057877\n",
      "New best score: 0.021263132742960242\n",
      "Model checkpoint saved at: ./models/best/best_sgd.pth\n",
      "Epoch 52/1000: train loss: 0.023427299143674654\n",
      "New best score: 0.02108369892141611\n",
      "Model checkpoint saved at: ./models/best/best_sgd.pth\n",
      "Epoch 53/1000: train loss: 0.023241051977372404\n",
      "New best score: 0.02093751031939909\n",
      "Model checkpoint saved at: ./models/best/best_sgd.pth\n",
      "Epoch 54/1000: train loss: 0.023128888594303787\n",
      "New best score: 0.020834462352346924\n",
      "Model checkpoint saved at: ./models/best/best_sgd.pth\n",
      "Epoch 55/1000: train loss: 0.022976737677076742\n",
      "New best score: 0.02073181382580047\n",
      "Model checkpoint saved at: ./models/best/best_sgd.pth\n",
      "Epoch 56/1000: train loss: 0.022860491976863857\n",
      "New best score: 0.020691571047802296\n",
      "Model checkpoint saved at: ./models/best/best_sgd.pth\n",
      "Epoch 57/1000: train loss: 0.02276769717664634\n",
      "New best score: 0.020517283668604166\n",
      "Model checkpoint saved at: ./models/best/best_sgd.pth\n",
      "Epoch 58/1000: train loss: 0.022676277670900663\n",
      "New best score: 0.02044889507195892\n",
      "Model checkpoint saved at: ./models/best/best_sgd.pth\n",
      "Epoch 59/1000: train loss: 0.02259599192152089\n",
      "New best score: 0.020339189658669012\n",
      "Model checkpoint saved at: ./models/best/best_sgd.pth\n",
      "Epoch 60/1000: train loss: 0.02251835416403169\n",
      "New best score: 0.020215697483487987\n",
      "Model checkpoint saved at: ./models/best/best_sgd.pth\n",
      "Epoch 61/1000: train loss: 0.022482552517885352\n",
      "New best score: 0.020172753257611576\n",
      "Model checkpoint saved at: ./models/best/best_sgd.pth\n",
      "Epoch 62/1000: train loss: 0.022387012319336184\n",
      "New best score: 0.02005944611972521\n",
      "Model checkpoint saved at: ./models/best/best_sgd.pth\n",
      "Epoch 63/1000: train loss: 0.022331287619383588\n",
      "New best score: 0.020027072739938888\n",
      "Model checkpoint saved at: ./models/best/best_sgd.pth\n",
      "Epoch 64/1000: train loss: 0.02227609235901116\n",
      "New best score: 0.01996537197711031\n",
      "Model checkpoint saved at: ./models/best/best_sgd.pth\n",
      "Epoch 65/1000: train loss: 0.022227373464350164\n",
      "New best score: 0.01995792514830249\n",
      "Model checkpoint saved at: ./models/best/best_sgd.pth\n",
      "Epoch 66/1000: train loss: 0.022178191732157893\n",
      "New best score: 0.01986589081702593\n",
      "Model checkpoint saved at: ./models/best/best_sgd.pth\n",
      "Epoch 67/1000: train loss: 0.022131249227106346\n",
      "New best score: 0.01975148580617599\n",
      "Model checkpoint saved at: ./models/best/best_sgd.pth\n",
      "Epoch 68/1000: train loss: 0.02209697610384111\n",
      "1 iterations since the best score.\n",
      "Epoch 69/1000: train loss: 0.022054045322252157\n",
      "2 iterations since the best score.\n",
      "Epoch 70/1000: train loss: 0.022042497808528978\n",
      "New best score: 0.019732373920737293\n",
      "Model checkpoint saved at: ./models/best/best_sgd.pth\n",
      "Epoch 71/1000: train loss: 0.02198454404253292\n",
      "New best score: 0.019722645766172785\n",
      "Model checkpoint saved at: ./models/best/best_sgd.pth\n",
      "Epoch 72/1000: train loss: 0.02195203367021436\n",
      "New best score: 0.01965720413682153\n",
      "Model checkpoint saved at: ./models/best/best_sgd.pth\n",
      "Epoch 73/1000: train loss: 0.021952560302027812\n",
      "1 iterations since the best score.\n",
      "Epoch 74/1000: train loss: 0.021892609369966464\n",
      "2 iterations since the best score.\n",
      "Epoch 75/1000: train loss: 0.02186501135800808\n",
      "New best score: 0.019604376906303143\n",
      "Model checkpoint saved at: ./models/best/best_sgd.pth\n",
      "Epoch 76/1000: train loss: 0.021836592129809276\n",
      "1 iterations since the best score.\n",
      "Epoch 77/1000: train loss: 0.02180727865167579\n",
      "New best score: 0.019513626997658177\n",
      "Model checkpoint saved at: ./models/best/best_sgd.pth\n",
      "Epoch 78/1000: train loss: 0.02178227289878568\n",
      "1 iterations since the best score.\n",
      "Epoch 79/1000: train loss: 0.021761740660137186\n",
      "2 iterations since the best score.\n",
      "Epoch 80/1000: train loss: 0.02176724770237794\n",
      "3 iterations since the best score.\n",
      "Epoch 81/1000: train loss: 0.021707788397805978\n",
      "4 iterations since the best score.\n",
      "Early stopping triggered.\n",
      "Debugging - Predicted Probabilities (first 10): [0.00298278 0.00298278 0.01905871 0.00298278 0.00298278 0.15000212\n",
      " 0.00298278 0.00298278 0.00298278 0.00298278]\n",
      "Debugging - True Labels (first 10): [0. 0. 0. 0. 0. 0. 0. 0. 0. 0.]\n",
      "Final Validation Metrics:\n",
      "Accuracy: 0.9968\n",
      "Precision: 0.8991\n",
      "Recall: 0.5269\n",
      "F1 Score: 0.6644\n",
      "AUC-ROC: 0.8340\n",
      "Average Precision: 0.5894\n",
      "Top K Accuracy (K=100): 0.9800\n"
     ]
    }
   ],
   "source": [
    "from deepLearning_modules.training_tools import train_model_earlystopping_metrics\n",
    "\n",
    "results = train_model_earlystopping_metrics(model=model, trainer=trainer, validator=validator, optimizer=optimizer, criterion=criterion, patience=3, max_epochs=1000, verbose=True, model_name=model_name, scheduler=scheduler)\n",
    "\n",
    "trained_model = results['model']\n",
    "training_time = results['training_time']\n",
    "train_loss = results['train_losses']\n",
    "valid_loss = results['valid_losses']"
   ]
  },
  {
   "cell_type": "code",
   "execution_count": 12,
   "metadata": {},
   "outputs": [
    {
     "name": "stdout",
     "output_type": "stream",
     "text": [
      "Final Validation Metrics:\n",
      "Accuracy: 0.9968\n",
      "Precision: 0.8991\n",
      "Recall: 0.5269\n",
      "F1 Score: 0.6644\n",
      "AUC-ROC: 0.8340\n",
      "Average Precision: 0.5894\n",
      "Top-K Accuracy: 0.9800\n"
     ]
    }
   ],
   "source": [
    "print(f\"Final Validation Metrics:\\n\"\n",
    "          f\"Accuracy: {results['final_metrics']['accuracy']:.4f}\\n\"\n",
    "          f\"Precision: {results['final_metrics']['precision']:.4f}\\n\"\n",
    "          f\"Recall: {results['final_metrics']['recall']:.4f}\\n\"\n",
    "          f\"F1 Score: {results['final_metrics']['f1']:.4f}\\n\"\n",
    "          f\"AUC-ROC: {results['final_metrics']['auc_roc']:.4f}\\n\"\n",
    "          f\"Average Precision: {results['final_metrics']['average_precision']:.4f}\\n\"\n",
    "          f\"Top-K Accuracy: {results['final_metrics']['top_k_accuracy']:.4f}\")"
   ]
  },
  {
   "cell_type": "code",
   "execution_count": 13,
   "metadata": {},
   "outputs": [
    {
     "name": "stderr",
     "output_type": "stream",
     "text": [
      "c:\\Users\\gc042\\OneDrive\\Desktop\\Projects\\datamining_proj\\datamining_proj\\venv\\Lib\\site-packages\\torch\\optim\\lr_scheduler.py:60: UserWarning: The verbose parameter is deprecated. Please use get_last_lr() to access the learning rate.\n",
      "  warnings.warn(\n"
     ]
    },
    {
     "name": "stdout",
     "output_type": "stream",
     "text": [
      "Epoch 1/1000: train loss: 0.6180878223278337\n",
      "New best score: 0.4177078237673025\n",
      "Model checkpoint saved at: ./models/best/best_adam.pth\n",
      "Epoch 2/1000: train loss: 0.3089864683790467\n",
      "New best score: 0.22364672536678587\n",
      "Model checkpoint saved at: ./models/best/best_adam.pth\n",
      "Epoch 3/1000: train loss: 0.17248419480203797\n",
      "New best score: 0.13004864336798536\n",
      "Model checkpoint saved at: ./models/best/best_adam.pth\n",
      "Epoch 4/1000: train loss: 0.10439304817513487\n",
      "New best score: 0.08128641376239884\n",
      "Model checkpoint saved at: ./models/best/best_adam.pth\n",
      "Epoch 5/1000: train loss: 0.06801634005368148\n",
      "New best score: 0.0544003805485182\n",
      "Model checkpoint saved at: ./models/best/best_adam.pth\n",
      "Epoch 6/1000: train loss: 0.04756757928372159\n",
      "New best score: 0.03889107208178382\n",
      "Model checkpoint saved at: ./models/best/best_adam.pth\n",
      "Epoch 7/1000: train loss: 0.03577285479869858\n",
      "New best score: 0.03014341457561834\n",
      "Model checkpoint saved at: ./models/best/best_adam.pth\n",
      "Epoch 8/1000: train loss: 0.028897896814681346\n",
      "New best score: 0.024241996810640418\n",
      "Model checkpoint saved at: ./models/best/best_adam.pth\n",
      "Epoch 9/1000: train loss: 0.024825428032534423\n",
      "1 iterations since the best score.\n",
      "Epoch 10/1000: train loss: 0.02253825743292806\n",
      "New best score: 0.022526533033066287\n",
      "Model checkpoint saved at: ./models/best/best_adam.pth\n",
      "Epoch 11/1000: train loss: 0.021141697218079167\n",
      "New best score: 0.02008540144096163\n",
      "Model checkpoint saved at: ./models/best/best_adam.pth\n",
      "Epoch 12/1000: train loss: 0.020326492547470223\n",
      "1 iterations since the best score.\n",
      "Epoch 13/1000: train loss: 0.01978565348611894\n",
      "2 iterations since the best score.\n",
      "Epoch 14/1000: train loss: 0.019570417988472394\n",
      "3 iterations since the best score.\n",
      "Epoch 15/1000: train loss: 0.019153544116153724\n",
      "4 iterations since the best score.\n",
      "Early stopping triggered.\n",
      "Debugging - Predicted Probabilities (first 10): [0.0029299 0.0029299 0.0029299 0.0029299 0.0029299 0.0138614 0.0029299\n",
      " 0.0029299 0.0029299 0.0029299]\n",
      "Debugging - True Labels (first 10): [0. 0. 0. 0. 0. 0. 0. 0. 0. 0.]\n",
      "Final Validation Metrics:\n",
      "Accuracy: 0.9969\n",
      "Precision: 0.8315\n",
      "Recall: 0.5968\n",
      "F1 Score: 0.6948\n",
      "AUC-ROC: 0.8511\n",
      "Average Precision: 0.6436\n",
      "Top K Accuracy (K=100): 0.9700\n"
     ]
    }
   ],
   "source": [
    "from deepLearning_modules.training_tools import train_model_earlystopping_metrics\n",
    "\n",
    "seed_everything(SEED)\n",
    "\n",
    "model_name = 'best_adam.pth'\n",
    "\n",
    "model = TransactionMLP(len(input_features)).to(device)\n",
    "optimizer = torch.optim.Adam(model.parameters(), lr=0.001)\n",
    "\n",
    "scheduler = lr_scheduler.ReduceLROnPlateau(optimizer, mode='min', factor=0.2, patience=2, verbose=True)\n",
    "\n",
    "results = train_model_earlystopping_metrics(model=model, trainer=trainer, validator=validator, optimizer=optimizer, criterion=criterion, patience=3, max_epochs=1000, verbose=True, model_name=model_name, scheduler=scheduler)\n",
    "\n",
    "trained_model = results['model']\n",
    "training_time = results['training_time']\n",
    "train_loss_adam = results['train_losses']\n",
    "valid_loss_adam = results['valid_losses']"
   ]
  },
  {
   "cell_type": "code",
   "execution_count": 14,
   "metadata": {},
   "outputs": [
    {
     "name": "stdout",
     "output_type": "stream",
     "text": [
      "Final Validation Metrics:\n",
      "Accuracy: 0.9969\n",
      "Precision: 0.8315\n",
      "Recall: 0.5968\n",
      "F1 Score: 0.6948\n",
      "AUC-ROC: 0.8511\n",
      "Average Precision: 0.6436\n",
      "Top-K Accuracy: 0.9700\n"
     ]
    }
   ],
   "source": [
    "print(f\"Final Validation Metrics:\\n\"\n",
    "          f\"Accuracy: {results['final_metrics']['accuracy']:.4f}\\n\"\n",
    "          f\"Precision: {results['final_metrics']['precision']:.4f}\\n\"\n",
    "          f\"Recall: {results['final_metrics']['recall']:.4f}\\n\"\n",
    "          f\"F1 Score: {results['final_metrics']['f1']:.4f}\\n\"\n",
    "          f\"AUC-ROC: {results['final_metrics']['auc_roc']:.4f}\\n\"\n",
    "          f\"Average Precision: {results['final_metrics']['average_precision']:.4f}\\n\"\n",
    "          f\"Top-K Accuracy: {results['final_metrics']['top_k_accuracy']:.4f}\")"
   ]
  },
  {
   "cell_type": "code",
   "execution_count": 15,
   "metadata": {},
   "outputs": [
    {
     "data": {
      "text/plain": [
       "(0.01, 0.06)"
      ]
     },
     "execution_count": 15,
     "metadata": {},
     "output_type": "execute_result"
    },
    {
     "data": {
      "image/png": "[encoded data removed]",
      "text/plain": [
       "<Figure size 640x480 with 2 Axes>"
      ]
     },
     "metadata": {},
     "output_type": "display_data"
    }
   ],
   "source": [
    "import numpy as np\n",
    "\n",
    "import matplotlib.pyplot as plt\n",
    "\n",
    "plt.subplot(1, 2, 1)\n",
    "plt.plot(np.arange(len(train_loss))+1, train_loss)\n",
    "plt.plot(np.arange(len(valid_loss))+1, valid_loss)\n",
    "plt.title(\"SGD\")\n",
    "plt.xlabel('epoch')\n",
    "plt.ylabel('loss')\n",
    "plt.legend(['train','valid'])\n",
    "plt.ylim([0.01,0.06])\n",
    "\n",
    "plt.subplot(1, 2, 2) \n",
    "plt.plot(np.arange(len(train_loss_adam))+1, train_loss_adam)\n",
    "plt.plot(np.arange(len(valid_loss_adam))+1, valid_loss_adam)\n",
    "plt.title(\"ADAM\")\n",
    "plt.xlabel('epoch')\n",
    "plt.ylabel('loss')\n",
    "plt.legend(['train','valid'])\n",
    "plt.ylim([0.01,0.06])"
   ]
  },
  {
   "cell_type": "code",
   "execution_count": 16,
   "metadata": {},
   "outputs": [
    {
     "name": "stderr",
     "output_type": "stream",
     "text": [
      "c:\\Users\\gc042\\OneDrive\\Desktop\\Projects\\datamining_proj\\datamining_proj\\venv\\Lib\\site-packages\\torch\\optim\\lr_scheduler.py:60: UserWarning: The verbose parameter is deprecated. Please use get_last_lr() to access the learning rate.\n",
      "  warnings.warn(\n"
     ]
    },
    {
     "name": "stdout",
     "output_type": "stream",
     "text": [
      "Epoch 1/1000: train loss: 0.6184049538307782\n",
      "New best score: 0.41831191373195303\n",
      "Model checkpoint saved at: ./models/best/best_dropout.pth\n",
      "Epoch 2/1000: train loss: 0.30972131476969733\n",
      "New best score: 0.2256174362231077\n",
      "Model checkpoint saved at: ./models/best/best_dropout.pth\n",
      "Epoch 3/1000: train loss: 0.17420906825858473\n",
      "New best score: 0.132778953560868\n",
      "Model checkpoint saved at: ./models/best/best_dropout.pth\n",
      "Epoch 4/1000: train loss: 0.10685575290855549\n",
      "New best score: 0.08379394633912099\n",
      "Model checkpoint saved at: ./models/best/best_dropout.pth\n",
      "Epoch 5/1000: train loss: 0.07133126338752843\n",
      "New best score: 0.056706363590004395\n",
      "Model checkpoint saved at: ./models/best/best_dropout.pth\n",
      "Epoch 6/1000: train loss: 0.05085418621815832\n",
      "New best score: 0.04044468934504965\n",
      "Model checkpoint saved at: ./models/best/best_dropout.pth\n",
      "Epoch 7/1000: train loss: 0.03963915186628405\n",
      "New best score: 0.032601119706553085\n",
      "Model checkpoint saved at: ./models/best/best_dropout.pth\n",
      "Epoch 8/1000: train loss: 0.03306229944714991\n",
      "New best score: 0.02629195007695263\n",
      "Model checkpoint saved at: ./models/best/best_dropout.pth\n",
      "Epoch 9/1000: train loss: 0.0296098789908097\n",
      "New best score: 0.022646693888570102\n",
      "Model checkpoint saved at: ./models/best/best_dropout.pth\n",
      "Epoch 10/1000: train loss: 0.02781843988273927\n",
      "New best score: 0.020773927484242238\n",
      "Model checkpoint saved at: ./models/best/best_dropout.pth\n",
      "Epoch 11/1000: train loss: 0.02735317801979571\n",
      "1 iterations since the best score.\n",
      "Epoch 12/1000: train loss: 0.02617441904130948\n",
      "New best score: 0.02020153972370854\n",
      "Model checkpoint saved at: ./models/best/best_dropout.pth\n",
      "Epoch 13/1000: train loss: 0.025804477000849098\n",
      "New best score: 0.01958188842381653\n",
      "Model checkpoint saved at: ./models/best/best_dropout.pth\n",
      "Epoch 14/1000: train loss: 0.025921510434810245\n",
      "1 iterations since the best score.\n",
      "Epoch 15/1000: train loss: 0.025139604966740562\n",
      "New best score: 0.019216683255320992\n",
      "Model checkpoint saved at: ./models/best/best_dropout.pth\n",
      "Epoch 16/1000: train loss: 0.026169837200803892\n",
      "New best score: 0.01912674828881294\n",
      "Model checkpoint saved at: ./models/best/best_dropout.pth\n",
      "Epoch 17/1000: train loss: 0.0259203428090642\n",
      "New best score: 0.018662944907814692\n",
      "Model checkpoint saved at: ./models/best/best_dropout.pth\n",
      "Epoch 18/1000: train loss: 0.02654202048042973\n",
      "1 iterations since the best score.\n",
      "Epoch 19/1000: train loss: 0.025915762941157647\n",
      "2 iterations since the best score.\n",
      "Epoch 20/1000: train loss: 0.025766572642980295\n",
      "3 iterations since the best score.\n",
      "Epoch 21/1000: train loss: 0.026174717013498983\n",
      "4 iterations since the best score.\n",
      "Early stopping triggered.\n",
      "Debugging - Predicted Probabilities (first 10): [0.00376501 0.00376501 0.00394093 0.00403682 0.00376501 0.0159154\n",
      " 0.00376501 0.00376501 0.00376501 0.00376501]\n",
      "Debugging - True Labels (first 10): [0. 0. 0. 0. 0. 0. 0. 0. 0. 0.]\n",
      "Final Validation Metrics:\n",
      "Accuracy: 0.9967\n",
      "Precision: 0.9766\n",
      "Recall: 0.4489\n",
      "F1 Score: 0.6151\n",
      "AUC-ROC: 0.8597\n",
      "Average Precision: 0.6166\n",
      "Top K Accuracy (K=100): 0.9700\n"
     ]
    }
   ],
   "source": [
    "import torch.optim.lr_scheduler as lr_scheduler\n",
    "\n",
    "from deepLearning_modules.transactionMLPDropoutClass import TransactionMLPWithDropout\n",
    "\n",
    "model_name = 'best_dropout.pth'\n",
    "\n",
    "seed_everything(SEED)\n",
    "model: TransactionMLPWithDropout = TransactionMLPWithDropout(len(input_features), 0.2).to(device)\n",
    "optimizer = torch.optim.Adam(model.parameters(), lr=0.001)\n",
    "\n",
    "scheduler = lr_scheduler.ReduceLROnPlateau(optimizer, mode='min', factor=0.1, patience=2, verbose=True)\n",
    "\n",
    "resultz = train_model_earlystopping_metrics(model=model, trainer=trainer, validator=validator, optimizer=optimizer, criterion=criterion, patience=3, max_epochs=1000, verbose=True, model_name=model_name, scheduler=scheduler)\n",
    "\n",
    "trained_model = resultz['model']\n",
    "training_time = resultz['training_time']\n",
    "train_loss_dropout = resultz['train_losses']\n",
    "valid_loss_dropout = resultz['valid_losses']"
   ]
  },
  {
   "cell_type": "code",
   "execution_count": 17,
   "metadata": {},
   "outputs": [
    {
     "name": "stdout",
     "output_type": "stream",
     "text": [
      "Final Validation Metrics:\n",
      "Accuracy: 0.9967\n",
      "Precision: 0.9766\n",
      "Recall: 0.4489\n",
      "F1 Score: 0.6151\n",
      "AUC-ROC: 0.8597\n",
      "Average Precision: 0.6166\n",
      "Top-K Accuracy: 0.9700\n"
     ]
    }
   ],
   "source": [
    "print(f\"Final Validation Metrics:\\n\"\n",
    "          f\"Accuracy: {resultz['final_metrics']['accuracy']:.4f}\\n\"\n",
    "          f\"Precision: {resultz['final_metrics']['precision']:.4f}\\n\"\n",
    "          f\"Recall: {resultz['final_metrics']['recall']:.4f}\\n\"\n",
    "          f\"F1 Score: {resultz['final_metrics']['f1']:.4f}\\n\"\n",
    "          f\"AUC-ROC: {resultz['final_metrics']['auc_roc']:.4f}\\n\"\n",
    "          f\"Average Precision: {resultz['final_metrics']['average_precision']:.4f}\\n\"\n",
    "          f\"Top-K Accuracy: {resultz['final_metrics']['top_k_accuracy']:.4f}\")"
   ]
  },
  {
   "cell_type": "code",
   "execution_count": 18,
   "metadata": {},
   "outputs": [
    {
     "data": {
      "text/plain": [
       "<matplotlib.legend.Legend at 0x1fa904d4210>"
      ]
     },
     "execution_count": 18,
     "metadata": {},
     "output_type": "execute_result"
    },
    {
     "data": {
      "image/png": "[encoded data removed]",
      "text/plain": [
       "<Figure size 640x480 with 1 Axes>"
      ]
     },
     "metadata": {},
     "output_type": "display_data"
    }
   ],
   "source": [
    "plt.plot(np.arange(len(train_loss_dropout))+1, train_loss_dropout)\n",
    "plt.plot(np.arange(len(valid_loss_dropout))+1, valid_loss_dropout)\n",
    "plt.title(\"Dropout effect\")\n",
    "plt.xlabel('epoch')\n",
    "plt.ylabel('loss')\n",
    "plt.legend(['train w/ dropout','valid w/ dropout'])"
   ]
  },
  {
   "cell_type": "code",
   "execution_count": 19,
   "metadata": {},
   "outputs": [
    {
     "data": {
      "text/plain": [
       "<matplotlib.legend.Legend at 0x1fa903aef90>"
      ]
     },
     "execution_count": 19,
     "metadata": {},
     "output_type": "execute_result"
    },
    {
     "data": {
      "image/png": "[encoded data removed]",
      "text/plain": [
       "<Figure size 640x480 with 1 Axes>"
      ]
     },
     "metadata": {},
     "output_type": "display_data"
    }
   ],
   "source": [
    "plt.plot(np.arange(len(train_loss_adam))+1, train_loss_adam)\n",
    "plt.plot(np.arange(len(valid_loss_adam))+1, valid_loss_adam)\n",
    "plt.plot(np.arange(len(train_loss_dropout))+1, train_loss_dropout)\n",
    "plt.plot(np.arange(len(valid_loss_dropout))+1, valid_loss_dropout)\n",
    "plt.title(\"Dropout effect\")\n",
    "plt.xlabel('epoch')\n",
    "plt.ylabel('loss')\n",
    "plt.legend(['train w/o dropout','valid w/o dropout','train w/ dropout','valid w/ dropout'])"
   ]
  }
 ],
 "metadata": {
  "kernelspec": {
   "display_name": "Python 3",
   "language": "python",
   "name": "python3"
  },
  "language_info": {
   "codemirror_mode": {
    "name": "ipython",
    "version": 3
   },
   "file_extension": ".py",
   "mimetype": "text/x-python",
   "name": "python",
   "nbconvert_exporter": "python",
   "pygments_lexer": "ipython3",
   "version": "3.11.2"
  }
 },
 "nbformat": 4,
 "nbformat_minor": 2
}
