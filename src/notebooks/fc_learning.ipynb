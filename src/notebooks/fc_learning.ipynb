{
 "cells": [
  {
   "cell_type": "code",
   "execution_count": 1,
   "metadata": {},
   "outputs": [
    {
     "name": "stdout",
     "output_type": "stream",
     "text": [
      "Reading files...\n",
      "Transactions read from files:  726864\n",
      "Fraudulent transactions:  5106\n"
     ]
    }
   ],
   "source": [
    "%reload_ext autoreload\n",
    "%autoreload 2\n",
    "\n",
    "import sys\n",
    "\n",
    "sys.path.append('../')\n",
    "\n",
    "import pandas as pd\n",
    "from generator_modules.load_dataset import load_ds\n",
    "\n",
    "SEED: int = 42\n",
    "\n",
    "PATH: str = '../data/transformed/'\n",
    "\n",
    "START: str = '2024-06-11'\n",
    "END: str = '2024-09-14'\n",
    "\n",
    "print(\"Reading files...\")\n",
    "transactions_df: pd.DataFrame = load_ds(PATH, START, END)\n",
    "print(\"Transactions read from files: \", len(transactions_df))\n",
    "print(\"Fraudulent transactions: \", transactions_df.IS_FRAUD.sum())"
   ]
  },
  {
   "cell_type": "code",
   "execution_count": 2,
   "metadata": {},
   "outputs": [],
   "source": [
    "columns_to_exclude: list = ['TRX_ID', 'CLIENT_ID', 'TERMINAL_ID', 'IS_FRAUD', 'FRAUD_SCENARIO', 'TRX_DATETIME', 'TRX_SECONDS', 'TRX_DAYS']\n",
    "\n",
    "input_features: list = [col for col in transactions_df.columns if col not in columns_to_exclude]\n",
    "output_features: str = 'IS_FRAUD'"
   ]
  },
  {
   "cell_type": "code",
   "execution_count": 3,
   "metadata": {},
   "outputs": [],
   "source": [
    "import datetime\n",
    "\n",
    "from classification_modules.normaliser import normalize_data\n",
    "\n",
    "start_date_training: datetime = datetime.datetime.strptime(\"2024-07-25\", \"%Y-%m-%d\")\n",
    "\n",
    "from classification_modules.classificationClass import Classification\n",
    "\n",
    "classificate: Classification = Classification()"
   ]
  },
  {
   "cell_type": "code",
   "execution_count": 4,
   "metadata": {},
   "outputs": [
    {
     "name": "stdout",
     "output_type": "stream",
     "text": [
      "Selected device is cuda\n"
     ]
    }
   ],
   "source": [
    "import torch\n",
    "\n",
    "if torch.cuda.is_available():\n",
    "    device: str = \"cuda\" \n",
    "else:\n",
    "    device = \"cpu\"\n",
    "print(\"Selected device is\",device)"
   ]
  },
  {
   "cell_type": "code",
   "execution_count": 5,
   "metadata": {},
   "outputs": [],
   "source": [
    "from deepLearning_modules.seeder import seed_everything\n",
    "\n",
    "seed_everything(SEED)"
   ]
  },
  {
   "cell_type": "code",
   "execution_count": 6,
   "metadata": {},
   "outputs": [],
   "source": [
    "import torch.utils\n",
    "import torch.utils.data\n",
    "\n",
    "criterion: torch.nn.BCELoss = torch.nn.BCELoss().to(device)"
   ]
  },
  {
   "cell_type": "code",
   "execution_count": 7,
   "metadata": {},
   "outputs": [],
   "source": [
    "training_duration=7\n",
    "delay_duration=7\n",
    "test_duration=7\n",
    "\n",
    "delta_valid = test_duration\n",
    "\n",
    "start_date_training_with_valid = start_date_training+datetime.timedelta(days=-(delay_duration+delta_valid))\n",
    "\n",
    "(train_set, valid_set)=classificate.split_train_test(transactions_df,start_date_training_with_valid,\n",
    "                                       training_duration=training_duration,delay_duration=delay_duration,test_duration=test_duration)\n",
    "\n",
    "(train_set, valid_set)=normalize_data(train_set, valid_set, input_features)"
   ]
  },
  {
   "cell_type": "code",
   "execution_count": 8,
   "metadata": {},
   "outputs": [
    {
     "name": "stderr",
     "output_type": "stream",
     "text": [
      "c:\\Users\\gc042\\OneDrive\\Desktop\\Projects\\datamining_proj\\datamining_proj\\venv\\Lib\\site-packages\\torch\\optim\\lr_scheduler.py:60: UserWarning: The verbose parameter is deprecated. Please use get_last_lr() to access the learning rate.\n",
      "  warnings.warn(\n"
     ]
    },
    {
     "name": "stdout",
     "output_type": "stream",
     "text": [
      "Epoch 1/500: train loss: 0.4360781507960828\n",
      "New best score: 0.2989424535129038\n",
      "Model checkpoint saved at: ./models/best/best_fc.pth\n",
      "Epoch 2/500: train loss: 0.09284006174380417\n",
      "New best score: 0.02550678401563423\n",
      "Model checkpoint saved at: ./models/best/best_fc.pth\n",
      "Epoch 3/500: train loss: 0.022057553156505066\n",
      "New best score: 0.020815740706694345\n",
      "Model checkpoint saved at: ./models/best/best_fc.pth\n",
      "Epoch 4/500: train loss: 0.021191247396551333\n",
      "New best score: 0.020189503763102683\n",
      "Model checkpoint saved at: ./models/best/best_fc.pth\n",
      "Epoch 5/500: train loss: 0.02086526229909708\n",
      "New best score: 0.019134462044448793\n",
      "Model checkpoint saved at: ./models/best/best_fc.pth\n",
      "Epoch 6/500: train loss: 0.020684188748959553\n",
      "New best score: 0.018450974773156017\n",
      "Model checkpoint saved at: ./models/best/best_fc.pth\n",
      "Epoch 7/500: train loss: 0.02045098411336345\n",
      "1 iterations since the best score.\n",
      "Epoch 8/500: train loss: 0.02024687472776872\n",
      "2 iterations since the best score.\n",
      "Epoch 9/500: train loss: 0.020050636901930218\n",
      "3 iterations since the best score.\n",
      "Epoch 10/500: train loss: 0.019683738081735278\n",
      "New best score: 0.01829811971655724\n",
      "Model checkpoint saved at: ./models/best/best_fc.pth\n",
      "Epoch 11/500: train loss: 0.019647335393576833\n",
      "New best score: 0.018112409444535148\n",
      "Model checkpoint saved at: ./models/best/best_fc.pth\n",
      "Epoch 12/500: train loss: 0.019568747583459556\n",
      "New best score: 0.01802596606687687\n",
      "Model checkpoint saved at: ./models/best/best_fc.pth\n",
      "Epoch 13/500: train loss: 0.019541488540392133\n",
      "1 iterations since the best score.\n",
      "Epoch 14/500: train loss: 0.019501181747672354\n",
      "2 iterations since the best score.\n",
      "Epoch 15/500: train loss: 0.019457689966999436\n",
      "3 iterations since the best score.\n",
      "Epoch 16/500: train loss: 0.019381155888090015\n",
      "4 iterations since the best score.\n",
      "Early stopping triggered.\n",
      "Debugging - Predicted Probabilities (first 10): [3.8468081e-04 1.1512416e-03 2.2942787e-03 7.2128765e-05 1.6627850e-03\n",
      " 9.7328417e-02 1.2709092e-03 2.0421427e-03 1.5056402e-03 9.4948214e-04]\n",
      "Debugging - True Labels (first 10): [0. 0. 0. 0. 0. 0. 0. 0. 0. 0.]\n",
      "Final Validation Metrics:\n",
      "Accuracy: 0.9967\n",
      "Precision: 0.8161\n",
      "Recall: 0.5726\n",
      "F1 Score: 0.6730\n",
      "AUC-ROC: 0.8536\n",
      "Average Precision: 0.6336\n",
      "Top K Accuracy (K=100): 0.9800\n"
     ]
    }
   ],
   "source": [
    "import torch.optim.lr_scheduler as lr_scheduler\n",
    "\n",
    "from deepLearning_modules.training_tools import prepare_data_loaders\n",
    "from deepLearning_modules.training_tools import train_model_earlystopping_metrics\n",
    "\n",
    "from deepLearning_modules.fcMLPClass import SimpleTransactionMLP\n",
    "\n",
    "seed_everything(SEED)\n",
    "\n",
    "model_name: str = 'best_fc.pth'\n",
    "\n",
    "model = SimpleTransactionMLP(len(input_features)).to(device)\n",
    "\n",
    "trainer, validator = prepare_data_loaders(train_df=train_set, valid_df=valid_set, input_features=input_features, output_feature=output_features, batch_size=64, device=device)\n",
    "\n",
    "criterion = torch.nn.BCELoss().to(device)\n",
    "optimizer = torch.optim.Adam(model.parameters(), lr=0.001)\n",
    "\n",
    "scheduler = lr_scheduler.ReduceLROnPlateau(optimizer, mode='min', factor=0.2, patience=2, verbose=True)\n",
    "\n",
    "results = train_model_earlystopping_metrics(model=model, trainer=trainer, validator=validator, optimizer=optimizer, criterion=criterion, patience=3, max_epochs=500, verbose=True, model_name=model_name, scheduler=scheduler)\n",
    "\n",
    "trained_model = results['model']\n",
    "training_time = results['training_time']\n",
    "train_loss = results['train_losses']\n",
    "valid_loss = results['valid_losses']"
   ]
  },
  {
   "cell_type": "code",
   "execution_count": 9,
   "metadata": {},
   "outputs": [
    {
     "name": "stdout",
     "output_type": "stream",
     "text": [
      "Final Validation Metrics:\n",
      "Accuracy: 0.9967\n",
      "Precision: 0.8161\n",
      "Recall: 0.5726\n",
      "F1 Score: 0.6730\n",
      "AUC-ROC: 0.8536\n",
      "Average Precision: 0.6336\n",
      "Top-K Accuracy: 0.9800\n"
     ]
    }
   ],
   "source": [
    "print(f\"Final Validation Metrics:\\n\"\n",
    "          f\"Accuracy: {results['final_metrics']['accuracy']:.4f}\\n\"\n",
    "          f\"Precision: {results['final_metrics']['precision']:.4f}\\n\"\n",
    "          f\"Recall: {results['final_metrics']['recall']:.4f}\\n\"\n",
    "          f\"F1 Score: {results['final_metrics']['f1']:.4f}\\n\"\n",
    "          f\"AUC-ROC: {results['final_metrics']['auc_roc']:.4f}\\n\"\n",
    "          f\"Average Precision: {results['final_metrics']['average_precision']:.4f}\\n\"\n",
    "          f\"Top-K Accuracy: {results['final_metrics']['top_k_accuracy']:.4f}\")"
   ]
  },
  {
   "cell_type": "code",
   "execution_count": 10,
   "metadata": {},
   "outputs": [
    {
     "data": {
      "text/plain": [
       "<matplotlib.legend.Legend at 0x227101cb0d0>"
      ]
     },
     "execution_count": 10,
     "metadata": {},
     "output_type": "execute_result"
    },
    {
     "data": {
      "image/png": "[encoded data removed]",
      "text/plain": [
       "<Figure size 640x480 with 1 Axes>"
      ]
     },
     "metadata": {},
     "output_type": "display_data"
    }
   ],
   "source": [
    "import numpy as np\n",
    "import matplotlib.pyplot as plt\n",
    "\n",
    "plt.plot(np.arange(len(train_loss))+1, train_loss)\n",
    "plt.plot(np.arange(len(valid_loss))+1, valid_loss)\n",
    "plt.title(\"Loss\")\n",
    "plt.xlabel('epoch')\n",
    "plt.ylabel('loss')\n",
    "plt.legend(['train w/o dropout','valid w/o dropout'])"
   ]
  },
  {
   "cell_type": "code",
   "execution_count": 11,
   "metadata": {},
   "outputs": [
    {
     "name": "stderr",
     "output_type": "stream",
     "text": [
      "c:\\Users\\gc042\\OneDrive\\Desktop\\Projects\\datamining_proj\\datamining_proj\\venv\\Lib\\site-packages\\torch\\optim\\lr_scheduler.py:60: UserWarning: The verbose parameter is deprecated. Please use get_last_lr() to access the learning rate.\n",
      "  warnings.warn(\n"
     ]
    },
    {
     "name": "stdout",
     "output_type": "stream",
     "text": [
      "Epoch 1/500: train loss: 0.20620035946891344\n",
      "New best score: 0.03335288706635442\n",
      "Model checkpoint saved at: ./models/best/best_fc_dropout.pth\n",
      "Epoch 2/500: train loss: 0.04008496622905409\n",
      "New best score: 0.02793460252241083\n",
      "Model checkpoint saved at: ./models/best/best_fc_dropout.pth\n",
      "Epoch 3/500: train loss: 0.03492061861003079\n",
      "New best score: 0.02375210610507252\n",
      "Model checkpoint saved at: ./models/best/best_fc_dropout.pth\n",
      "Epoch 4/500: train loss: 0.03181484859718863\n",
      "New best score: 0.0226973621683967\n",
      "Model checkpoint saved at: ./models/best/best_fc_dropout.pth\n",
      "Epoch 5/500: train loss: 0.029937009253957057\n",
      "New best score: 0.020609531489339993\n",
      "Model checkpoint saved at: ./models/best/best_fc_dropout.pth\n",
      "Epoch 6/500: train loss: 0.029407338166643576\n",
      "New best score: 0.01952850655568655\n",
      "Model checkpoint saved at: ./models/best/best_fc_dropout.pth\n",
      "Epoch 7/500: train loss: 0.028821521130480705\n",
      "New best score: 0.018799286115092226\n",
      "Model checkpoint saved at: ./models/best/best_fc_dropout.pth\n",
      "Epoch 8/500: train loss: 0.02741542602219003\n",
      "New best score: 0.018161087479369637\n",
      "Model checkpoint saved at: ./models/best/best_fc_dropout.pth\n",
      "Epoch 9/500: train loss: 0.026807040396003668\n",
      "1 iterations since the best score.\n",
      "Epoch 10/500: train loss: 0.02583889458512472\n",
      "New best score: 0.018040795127150643\n",
      "Model checkpoint saved at: ./models/best/best_fc_dropout.pth\n",
      "Epoch 11/500: train loss: 0.025335690716276275\n",
      "1 iterations since the best score.\n",
      "Epoch 12/500: train loss: 0.025258052089450457\n",
      "2 iterations since the best score.\n",
      "Epoch 13/500: train loss: 0.024801141689535885\n",
      "New best score: 0.0175646949273551\n",
      "Model checkpoint saved at: ./models/best/best_fc_dropout.pth\n",
      "Epoch 14/500: train loss: 0.024958553928347445\n",
      "1 iterations since the best score.\n",
      "Epoch 15/500: train loss: 0.024712433835696553\n",
      "2 iterations since the best score.\n",
      "Epoch 16/500: train loss: 0.024443883541708608\n",
      "3 iterations since the best score.\n",
      "Epoch 17/500: train loss: 0.0243464047884304\n",
      "New best score: 0.017525268718126548\n",
      "Model checkpoint saved at: ./models/best/best_fc_dropout.pth\n",
      "Epoch 18/500: train loss: 0.02414497642743691\n",
      "1 iterations since the best score.\n",
      "Epoch 19/500: train loss: 0.024051515422524886\n",
      "New best score: 0.01749504557681139\n",
      "Model checkpoint saved at: ./models/best/best_fc_dropout.pth\n",
      "Epoch 20/500: train loss: 0.024461795077838796\n",
      "1 iterations since the best score.\n",
      "Epoch 21/500: train loss: 0.024010471265451142\n",
      "2 iterations since the best score.\n",
      "Epoch 22/500: train loss: 0.02467508622715013\n",
      "3 iterations since the best score.\n",
      "Epoch 23/500: train loss: 0.023896776799678537\n",
      "4 iterations since the best score.\n",
      "Early stopping triggered.\n",
      "Debugging - Predicted Probabilities (first 10): [0.00148848 0.00149959 0.00422044 0.00076741 0.00475686 0.03932917\n",
      " 0.00195825 0.0023077  0.00304859 0.00113988]\n",
      "Debugging - True Labels (first 10): [0. 0. 0. 0. 0. 0. 0. 0. 0. 0.]\n",
      "Final Validation Metrics:\n",
      "Accuracy: 0.9969\n",
      "Precision: 0.9641\n",
      "Recall: 0.5054\n",
      "F1 Score: 0.6631\n",
      "AUC-ROC: 0.8525\n",
      "Average Precision: 0.6347\n",
      "Top K Accuracy (K=100): 0.9700\n"
     ]
    }
   ],
   "source": [
    "from deepLearning_modules.fcMLPDropoutClass import SimpleTransactionMLPWithDropout\n",
    "\n",
    "seed_everything(SEED)\n",
    "\n",
    "model_name: str = 'best_fc_dropout.pth'\n",
    "\n",
    "model = SimpleTransactionMLPWithDropout(len(input_features), 0.2).to(device)\n",
    "\n",
    "trainer, validator = prepare_data_loaders(train_df=train_set, valid_df=valid_set, input_features=input_features, output_feature=output_features, batch_size=64, device=device)\n",
    "\n",
    "criterion = torch.nn.BCELoss().to(device)\n",
    "optimizer = torch.optim.Adam(model.parameters(), lr=0.001)\n",
    "\n",
    "scheduler = lr_scheduler.ReduceLROnPlateau(optimizer, mode='min', factor=0.2, patience=2, verbose=True)\n",
    "\n",
    "results = train_model_earlystopping_metrics(model=model, trainer=trainer, validator=validator, optimizer=optimizer, criterion=criterion, patience=3, max_epochs=500, verbose=True, model_name=model_name, scheduler=scheduler)\n",
    "\n",
    "trained_model = results['model']\n",
    "training_time = results['training_time']\n",
    "train_loss_dropout = results['train_losses']\n",
    "valid_loss_dropout = results['valid_losses']"
   ]
  },
  {
   "cell_type": "code",
   "execution_count": 12,
   "metadata": {},
   "outputs": [
    {
     "name": "stdout",
     "output_type": "stream",
     "text": [
      "Final Validation Metrics:\n",
      "Accuracy: 0.9969\n",
      "Precision: 0.9641\n",
      "Recall: 0.5054\n",
      "F1 Score: 0.6631\n",
      "AUC-ROC: 0.8525\n",
      "Average Precision: 0.6347\n",
      "Top-K Accuracy: 0.9700\n"
     ]
    }
   ],
   "source": [
    "print(f\"Final Validation Metrics:\\n\"\n",
    "          f\"Accuracy: {results['final_metrics']['accuracy']:.4f}\\n\"\n",
    "          f\"Precision: {results['final_metrics']['precision']:.4f}\\n\"\n",
    "          f\"Recall: {results['final_metrics']['recall']:.4f}\\n\"\n",
    "          f\"F1 Score: {results['final_metrics']['f1']:.4f}\\n\"\n",
    "          f\"AUC-ROC: {results['final_metrics']['auc_roc']:.4f}\\n\"\n",
    "          f\"Average Precision: {results['final_metrics']['average_precision']:.4f}\\n\"\n",
    "          f\"Top-K Accuracy: {results['final_metrics']['top_k_accuracy']:.4f}\")"
   ]
  },
  {
   "cell_type": "code",
   "execution_count": 13,
   "metadata": {},
   "outputs": [
    {
     "data": {
      "text/plain": [
       "<matplotlib.legend.Legend at 0x227102af990>"
      ]
     },
     "execution_count": 13,
     "metadata": {},
     "output_type": "execute_result"
    },
    {
     "data": {
      "image/png": "[encoded data removed]",
      "text/plain": [
       "<Figure size 640x480 with 1 Axes>"
      ]
     },
     "metadata": {},
     "output_type": "display_data"
    }
   ],
   "source": [
    "import numpy as np\n",
    "import matplotlib.pyplot as plt\n",
    "\n",
    "plt.plot(np.arange(len(train_loss_dropout))+1, train_loss_dropout)\n",
    "plt.plot(np.arange(len(valid_loss_dropout))+1, valid_loss_dropout)\n",
    "plt.title(\"Dropout effect\")\n",
    "plt.xlabel('epoch')\n",
    "plt.ylabel('loss')\n",
    "plt.legend(['train w/ dropout','valid w/ dropout'])"
   ]
  }
 ],
 "metadata": {
  "kernelspec": {
   "display_name": "venv",
   "language": "python",
   "name": "python3"
  },
  "language_info": {
   "codemirror_mode": {
    "name": "ipython",
    "version": 3
   },
   "file_extension": ".py",
   "mimetype": "text/x-python",
   "name": "python",
   "nbconvert_exporter": "python",
   "pygments_lexer": "ipython3",
   "version": "3.11.2"
  }
 },
 "nbformat": 4,
 "nbformat_minor": 2
}
