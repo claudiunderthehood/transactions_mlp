{
 "cells": [
  {
   "cell_type": "code",
   "execution_count": 1,
   "metadata": {},
   "outputs": [
    {
     "name": "stdout",
     "output_type": "stream",
     "text": [
      "Reading files...\n",
      "Transactions read from files:  726864\n",
      "Fraudulent transactions:  5106\n"
     ]
    }
   ],
   "source": [
    "%reload_ext autoreload\n",
    "%autoreload 2\n",
    "\n",
    "import sys\n",
    "\n",
    "sys.path.append('../')\n",
    "\n",
    "\n",
    "import pandas as pd\n",
    "from generator_modules.load_dataset import load_ds\n",
    "\n",
    "SEED: int = 42\n",
    "\n",
    "PATH: str = '../data/transformed/'\n",
    "\n",
    "START: str = '2024-06-11'\n",
    "END: str = '2024-09-14'\n",
    "\n",
    "print(\"Reading files...\")\n",
    "transactions_df: pd.DataFrame = load_ds(PATH, START, END)\n",
    "print(\"Transactions read from files: \", len(transactions_df))\n",
    "print(\"Fraudulent transactions: \", transactions_df.IS_FRAUD.sum())"
   ]
  },
  {
   "cell_type": "code",
   "execution_count": 2,
   "metadata": {},
   "outputs": [],
   "source": [
    "columns_to_exclude: list = ['TRX_ID', 'CLIENT_ID', 'TERMINAL_ID', 'IS_FRAUD', 'FRAUD_SCENARIO', 'TRX_DATETIME', 'TRX_SECONDS', 'TRX_DAYS']\n",
    "\n",
    "input_features: list = [col for col in transactions_df.columns if col not in columns_to_exclude]\n",
    "output_features: str = 'IS_FRAUD'"
   ]
  },
  {
   "cell_type": "code",
   "execution_count": 3,
   "metadata": {},
   "outputs": [],
   "source": [
    "import datetime\n",
    "\n",
    "start_date_training: datetime = datetime.datetime.strptime(\"2024-07-25\", \"%Y-%m-%d\")\n",
    "\n",
    "from classification_modules.classificationClass import Classification\n",
    "\n",
    "classificate: Classification = Classification()\n",
    "\n",
    "(training_set, test_set) = classificate.split_train_test(transactions=transactions_df, training_start_date=start_date_training)"
   ]
  },
  {
   "cell_type": "code",
   "execution_count": 4,
   "metadata": {},
   "outputs": [],
   "source": [
    "from classification_modules.normaliser import normalize_data\n",
    "\n",
    "(training_set, test_set) = normalize_data(training_data=training_set, testing_data=test_set, feature_columns=input_features)"
   ]
  },
  {
   "cell_type": "code",
   "execution_count": 5,
   "metadata": {},
   "outputs": [
    {
     "name": "stdout",
     "output_type": "stream",
     "text": [
      "Selected device is cuda\n"
     ]
    }
   ],
   "source": [
    "import torch\n",
    "\n",
    "if torch.cuda.is_available():\n",
    "    device: str = \"cuda\" \n",
    "else:\n",
    "    device = \"cpu\"\n",
    "print(\"Selected device is\",device)"
   ]
  },
  {
   "cell_type": "code",
   "execution_count": 6,
   "metadata": {},
   "outputs": [],
   "source": [
    "from deepLearning_modules.seeder import seed_everything\n",
    "\n",
    "seed_everything(SEED)"
   ]
  },
  {
   "cell_type": "code",
   "execution_count": 7,
   "metadata": {},
   "outputs": [],
   "source": [
    "x_training_set: torch.FloatTensor = torch.FloatTensor(training_set[input_features].values)\n",
    "x_test_set: torch.FloatTensor = torch.FloatTensor(test_set[input_features].values)\n",
    "y_training_set: torch.FloatTensor = torch.FloatTensor(training_set[output_features].values)\n",
    "y_test_set: torch.FloatTensor = torch.FloatTensor(test_set[output_features].values)"
   ]
  },
  {
   "cell_type": "code",
   "execution_count": 8,
   "metadata": {},
   "outputs": [],
   "source": [
    "import torch.utils\n",
    "import torch.utils.data\n",
    "from deepLearning_modules.transactionsDatasetClass import TransactionDataset\n",
    "\n",
    "training_set_params: dict = {'batch_size': 64,\n",
    "          'shuffle': True,\n",
    "          'num_workers': 0}\n",
    "\n",
    "test_set_params: dict = {'batch_size': 64,\n",
    "          'num_workers': 0}\n",
    "\n",
    "train_set: TransactionDataset = TransactionDataset(x_training_set, y_training_set, device)\n",
    "\n",
    "testing_set: TransactionDataset = TransactionDataset(x_test_set, y_test_set, device)\n",
    "\n",
    "trainer: torch.utils.data.DataLoader = torch.utils.data.DataLoader(train_set, **training_set_params)\n",
    "tester: torch.utils.data.DataLoader = torch.utils.data.DataLoader(testing_set, **test_set_params)"
   ]
  },
  {
   "cell_type": "code",
   "execution_count": 9,
   "metadata": {},
   "outputs": [],
   "source": [
    "criterion: torch.nn.BCELoss = torch.nn.BCELoss().to(device)"
   ]
  },
  {
   "cell_type": "code",
   "execution_count": 10,
   "metadata": {},
   "outputs": [],
   "source": [
    "training_duration=7\n",
    "delay_duration=7\n",
    "test_duration=7\n",
    "\n",
    "delta_valid = test_duration\n",
    "\n",
    "start_date_training_with_valid = start_date_training+datetime.timedelta(days=-(delay_duration+delta_valid))\n",
    "\n",
    "(train_set, valid_set)=classificate.split_train_test(transactions_df,start_date_training_with_valid,\n",
    "                                       training_duration=training_duration,delay_duration=delay_duration,test_duration=test_duration)\n",
    "\n",
    "(train_set, valid_set)=normalize_data(train_set, valid_set, input_features)"
   ]
  },
  {
   "cell_type": "code",
   "execution_count": 11,
   "metadata": {},
   "outputs": [
    {
     "name": "stderr",
     "output_type": "stream",
     "text": [
      "c:\\Users\\gc042\\OneDrive\\Desktop\\Projects\\datamining_proj\\datamining_proj\\venv\\Lib\\site-packages\\torch\\optim\\lr_scheduler.py:60: UserWarning: The verbose parameter is deprecated. Please use get_last_lr() to access the learning rate.\n",
      "  warnings.warn(\n"
     ]
    },
    {
     "name": "stdout",
     "output_type": "stream",
     "text": [
      "Epoch 1/500: train loss: 0.06053799624057276\n",
      "New best score: 0.021213416872837117\n",
      "Model checkpoint saved at: ./models/best/best_funnel.pth\n",
      "Epoch 2/500: train loss: 0.022614743320603425\n",
      "1 iterations since the best score.\n",
      "Epoch 3/500: train loss: 0.022345074957108732\n",
      "2 iterations since the best score.\n",
      "Epoch 4/500: train loss: 0.022371587387724136\n",
      "New best score: 0.01885481870008931\n",
      "Model checkpoint saved at: ./models/best/best_funnel.pth\n",
      "Epoch 5/500: train loss: 0.021936568038531307\n",
      "1 iterations since the best score.\n",
      "Epoch 6/500: train loss: 0.021025602590511287\n",
      "New best score: 0.01777100034558371\n",
      "Model checkpoint saved at: ./models/best/best_funnel.pth\n",
      "Epoch 7/500: train loss: 0.020482422440611343\n",
      "1 iterations since the best score.\n",
      "Epoch 8/500: train loss: 0.01937882215396706\n",
      "New best score: 0.01748163129163139\n",
      "Model checkpoint saved at: ./models/best/best_funnel.pth\n",
      "Epoch 9/500: train loss: 0.018595074533753135\n",
      "New best score: 0.01693841212113433\n",
      "Model checkpoint saved at: ./models/best/best_funnel.pth\n",
      "Epoch 10/500: train loss: 0.018985319832459366\n",
      "1 iterations since the best score.\n",
      "Epoch 11/500: train loss: 0.018113307436127154\n",
      "2 iterations since the best score.\n",
      "Epoch 12/500: train loss: 0.017901088996579093\n",
      "3 iterations since the best score.\n",
      "Epoch 13/500: train loss: 0.0161277768139702\n",
      "4 iterations since the best score.\n",
      "Early stopping triggered.\n",
      "Debugging - Predicted Probabilities (first 10): [0.00030267 0.00029251 0.00079544 0.00064437 0.00108505 0.0141889\n",
      " 0.00057029 0.00133122 0.00112648 0.00036666]\n",
      "Debugging - True Labels (first 10): [0. 0. 0. 0. 0. 0. 0. 0. 0. 0.]\n",
      "Final Validation Metrics:\n",
      "Accuracy: 0.9967\n",
      "Precision: 0.7774\n",
      "Recall: 0.6290\n",
      "F1 Score: 0.6954\n",
      "AUC-ROC: 0.8709\n",
      "Average Precision: 0.6595\n",
      "Top K Accuracy (K=100): 0.9700\n"
     ]
    }
   ],
   "source": [
    "import torch.optim.lr_scheduler as lr_scheduler\n",
    "\n",
    "from deepLearning_modules.training_tools import prepare_data_loaders\n",
    "from deepLearning_modules.training_tools import train_model_earlystopping_metrics\n",
    "\n",
    "from deepLearning_modules.funnelMLPClass import DeepFunnelTransactionMLP\n",
    "\n",
    "seed_everything(SEED)\n",
    "\n",
    "model_name: str = 'best_funnel.pth'\n",
    "\n",
    "model = DeepFunnelTransactionMLP(len(input_features)).to(device)\n",
    "\n",
    "trainer, validator = prepare_data_loaders(train_df=train_set, valid_df=valid_set, input_features=input_features, output_feature=output_features, batch_size=64, device=device)\n",
    "\n",
    "criterion = torch.nn.BCELoss().to(device)\n",
    "optimizer = torch.optim.Adam(model.parameters(), lr=0.001)\n",
    "\n",
    "scheduler = lr_scheduler.ReduceLROnPlateau(optimizer, mode='min', factor=0.2, patience=2, verbose=True)\n",
    "\n",
    "results = train_model_earlystopping_metrics(model=model, trainer=trainer, validator=validator, optimizer=optimizer, criterion=criterion, patience=3, max_epochs=500, verbose=True, model_name=model_name, scheduler=scheduler)\n",
    "\n",
    "trained_model = results['model']\n",
    "training_time = results['training_time']\n",
    "train_loss = results['train_losses']\n",
    "valid_loss = results['valid_losses']"
   ]
  },
  {
   "cell_type": "code",
   "execution_count": 12,
   "metadata": {},
   "outputs": [
    {
     "name": "stdout",
     "output_type": "stream",
     "text": [
      "Final Validation Metrics:\n",
      "Accuracy: 0.9967\n",
      "Precision: 0.7774\n",
      "Recall: 0.6290\n",
      "F1 Score: 0.6954\n",
      "AUC-ROC: 0.8709\n",
      "Average Precision: 0.6595\n",
      "Top-K Accuracy: 0.9700\n"
     ]
    }
   ],
   "source": [
    "print(f\"Final Validation Metrics:\\n\"\n",
    "          f\"Accuracy: {results['final_metrics']['accuracy']:.4f}\\n\"\n",
    "          f\"Precision: {results['final_metrics']['precision']:.4f}\\n\"\n",
    "          f\"Recall: {results['final_metrics']['recall']:.4f}\\n\"\n",
    "          f\"F1 Score: {results['final_metrics']['f1']:.4f}\\n\"\n",
    "          f\"AUC-ROC: {results['final_metrics']['auc_roc']:.4f}\\n\"\n",
    "          f\"Average Precision: {results['final_metrics']['average_precision']:.4f}\\n\"\n",
    "          f\"Top-K Accuracy: {results['final_metrics']['top_k_accuracy']:.4f}\")"
   ]
  },
  {
   "cell_type": "code",
   "execution_count": 13,
   "metadata": {},
   "outputs": [
    {
     "data": {
      "text/plain": [
       "<matplotlib.legend.Legend at 0x2b5219b4810>"
      ]
     },
     "execution_count": 13,
     "metadata": {},
     "output_type": "execute_result"
    },
    {
     "data": {
      "image/png": "[encoded data removed]",
      "text/plain": [
       "<Figure size 640x480 with 1 Axes>"
      ]
     },
     "metadata": {},
     "output_type": "display_data"
    }
   ],
   "source": [
    "import numpy as np\n",
    "import matplotlib.pyplot as plt\n",
    "\n",
    "plt.plot(np.arange(len(train_loss))+1, train_loss)\n",
    "plt.plot(np.arange(len(valid_loss))+1, valid_loss)\n",
    "plt.title(\"Loss\")\n",
    "plt.xlabel('epoch')\n",
    "plt.ylabel('loss')\n",
    "plt.legend(['train w/o dropout','valid w/o dropout'])"
   ]
  },
  {
   "cell_type": "code",
   "execution_count": 14,
   "metadata": {},
   "outputs": [
    {
     "name": "stderr",
     "output_type": "stream",
     "text": [
      "c:\\Users\\gc042\\OneDrive\\Desktop\\Projects\\datamining_proj\\datamining_proj\\venv\\Lib\\site-packages\\torch\\optim\\lr_scheduler.py:60: UserWarning: The verbose parameter is deprecated. Please use get_last_lr() to access the learning rate.\n",
      "  warnings.warn(\n"
     ]
    },
    {
     "name": "stdout",
     "output_type": "stream",
     "text": [
      "Epoch 1/500: train loss: 0.07078925496000561\n",
      "New best score: 0.027295697479808815\n",
      "Model checkpoint saved at: ./models/best/best_funnel_dropout.pth\n",
      "Epoch 2/500: train loss: 0.029954859856002495\n",
      "New best score: 0.021553363443105152\n",
      "Model checkpoint saved at: ./models/best/best_funnel_dropout.pth\n",
      "Epoch 3/500: train loss: 0.027996893925381485\n",
      "1 iterations since the best score.\n",
      "Epoch 4/500: train loss: 0.02736549922892638\n",
      "New best score: 0.021031338235468263\n",
      "Model checkpoint saved at: ./models/best/best_funnel_dropout.pth\n",
      "Epoch 5/500: train loss: 0.027032401759041865\n",
      "New best score: 0.0193521497005271\n",
      "Model checkpoint saved at: ./models/best/best_funnel_dropout.pth\n",
      "Epoch 6/500: train loss: 0.025696431245715166\n",
      "New best score: 0.018853497154187746\n",
      "Model checkpoint saved at: ./models/best/best_funnel_dropout.pth\n",
      "Epoch 7/500: train loss: 0.024566108181390135\n",
      "1 iterations since the best score.\n",
      "Epoch 8/500: train loss: 0.02485956254730127\n",
      "2 iterations since the best score.\n",
      "Epoch 9/500: train loss: 0.02349785553395042\n",
      "3 iterations since the best score.\n",
      "Epoch 10/500: train loss: 0.022673745482686036\n",
      "New best score: 0.018488135195142405\n",
      "Model checkpoint saved at: ./models/best/best_funnel_dropout.pth\n",
      "Epoch 11/500: train loss: 0.022825698545557445\n",
      "1 iterations since the best score.\n",
      "Epoch 12/500: train loss: 0.022532312498342068\n",
      "2 iterations since the best score.\n",
      "Epoch 13/500: train loss: 0.022305801535780462\n",
      "New best score: 0.01843474459748962\n",
      "Model checkpoint saved at: ./models/best/best_funnel_dropout.pth\n",
      "Epoch 14/500: train loss: 0.021989318102366893\n",
      "New best score: 0.018137196449568325\n",
      "Model checkpoint saved at: ./models/best/best_funnel_dropout.pth\n",
      "Epoch 15/500: train loss: 0.0220993184841563\n",
      "1 iterations since the best score.\n",
      "Epoch 16/500: train loss: 0.021923235681535272\n",
      "New best score: 0.01809607253937481\n",
      "Model checkpoint saved at: ./models/best/best_funnel_dropout.pth\n",
      "Epoch 17/500: train loss: 0.02161229642422174\n",
      "1 iterations since the best score.\n",
      "Epoch 18/500: train loss: 0.021986957119912724\n",
      "2 iterations since the best score.\n",
      "Epoch 19/500: train loss: 0.021621413765856707\n",
      "New best score: 0.01790601628449868\n",
      "Model checkpoint saved at: ./models/best/best_funnel_dropout.pth\n",
      "Epoch 20/500: train loss: 0.021337242842137616\n",
      "New best score: 0.017905563917671778\n",
      "Model checkpoint saved at: ./models/best/best_funnel_dropout.pth\n",
      "Epoch 21/500: train loss: 0.021616298106178353\n",
      "1 iterations since the best score.\n",
      "Epoch 22/500: train loss: 0.021409793309201525\n",
      "2 iterations since the best score.\n",
      "Epoch 23/500: train loss: 0.021517972909141883\n",
      "3 iterations since the best score.\n",
      "Epoch 24/500: train loss: 0.020591729832353176\n",
      "4 iterations since the best score.\n",
      "Early stopping triggered.\n",
      "Debugging - Predicted Probabilities (first 10): [0.00018698 0.00028309 0.00125558 0.00021548 0.00117049 0.00431908\n",
      " 0.00045091 0.00039373 0.00158051 0.000241  ]\n",
      "Debugging - True Labels (first 10): [0. 0. 0. 0. 0. 0. 0. 0. 0. 0.]\n",
      "Final Validation Metrics:\n",
      "Accuracy: 0.9968\n",
      "Precision: 0.9048\n",
      "Recall: 0.5108\n",
      "F1 Score: 0.6529\n",
      "AUC-ROC: 0.8546\n",
      "Average Precision: 0.6276\n",
      "Top K Accuracy (K=100): 0.9700\n"
     ]
    }
   ],
   "source": [
    "from deepLearning_modules.funnelMLPDropoutClass import FunnelTransactionMLPWithDropout\n",
    "\n",
    "seed_everything(SEED)\n",
    "\n",
    "model_name: str = 'best_funnel_dropout.pth'\n",
    "\n",
    "model = FunnelTransactionMLPWithDropout(len(input_features), 0.4).to(device)\n",
    "\n",
    "trainer, validator = prepare_data_loaders(train_df=train_set, valid_df=valid_set, input_features=input_features, output_feature=output_features, batch_size=64, device=device)\n",
    "\n",
    "criterion = torch.nn.BCELoss().to(device)\n",
    "optimizer = torch.optim.Adam(model.parameters(), lr=0.001)\n",
    "\n",
    "scheduler = lr_scheduler.ReduceLROnPlateau(optimizer, mode='min', factor=0.2, patience=2, verbose=True)\n",
    "\n",
    "results = train_model_earlystopping_metrics(model=model, trainer=trainer, validator=validator, optimizer=optimizer, criterion=criterion, patience=3, max_epochs=500, verbose=True, model_name=model_name, scheduler=scheduler)\n",
    "\n",
    "trained_model = results['model']\n",
    "training_time = results['training_time']\n",
    "train_loss_dropout = results['train_losses']\n",
    "valid_loss_dropout = results['valid_losses']"
   ]
  },
  {
   "cell_type": "code",
   "execution_count": 15,
   "metadata": {},
   "outputs": [
    {
     "name": "stdout",
     "output_type": "stream",
     "text": [
      "Final Validation Metrics:\n",
      "Accuracy: 0.9968\n",
      "Precision: 0.9048\n",
      "Recall: 0.5108\n",
      "F1 Score: 0.6529\n",
      "AUC-ROC: 0.8546\n",
      "Average Precision: 0.6276\n",
      "Top-K Accuracy: 0.9700\n"
     ]
    }
   ],
   "source": [
    "print(f\"Final Validation Metrics:\\n\"\n",
    "          f\"Accuracy: {results['final_metrics']['accuracy']:.4f}\\n\"\n",
    "          f\"Precision: {results['final_metrics']['precision']:.4f}\\n\"\n",
    "          f\"Recall: {results['final_metrics']['recall']:.4f}\\n\"\n",
    "          f\"F1 Score: {results['final_metrics']['f1']:.4f}\\n\"\n",
    "          f\"AUC-ROC: {results['final_metrics']['auc_roc']:.4f}\\n\"\n",
    "          f\"Average Precision: {results['final_metrics']['average_precision']:.4f}\\n\"\n",
    "          f\"Top-K Accuracy: {results['final_metrics']['top_k_accuracy']:.4f}\")"
   ]
  },
  {
   "cell_type": "code",
   "execution_count": 16,
   "metadata": {},
   "outputs": [
    {
     "data": {
      "text/plain": [
       "<matplotlib.legend.Legend at 0x2b50df7bc50>"
      ]
     },
     "execution_count": 16,
     "metadata": {},
     "output_type": "execute_result"
    },
    {
     "data": {
      "image/png": "[encoded data removed]",
      "text/plain": [
       "<Figure size 640x480 with 1 Axes>"
      ]
     },
     "metadata": {},
     "output_type": "display_data"
    }
   ],
   "source": [
    "import numpy as np\n",
    "import matplotlib.pyplot as plt\n",
    "\n",
    "plt.plot(np.arange(len(train_loss_dropout))+1, train_loss_dropout)\n",
    "plt.plot(np.arange(len(valid_loss_dropout))+1, valid_loss_dropout)\n",
    "plt.title(\"Dropout effect\")\n",
    "plt.xlabel('epoch')\n",
    "plt.ylabel('loss')\n",
    "plt.legend(['train w/ dropout','valid w/ dropout'])"
   ]
  }
 ],
 "metadata": {
  "kernelspec": {
   "display_name": "venv",
   "language": "python",
   "name": "python3"
  },
  "language_info": {
   "codemirror_mode": {
    "name": "ipython",
    "version": 3
   },
   "file_extension": ".py",
   "mimetype": "text/x-python",
   "name": "python",
   "nbconvert_exporter": "python",
   "pygments_lexer": "ipython3",
   "version": "3.11.2"
  }
 },
 "nbformat": 4,
 "nbformat_minor": 2
}
